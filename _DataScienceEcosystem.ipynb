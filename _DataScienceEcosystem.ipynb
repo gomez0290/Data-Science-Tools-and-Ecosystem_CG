{
 "cells": [
  {
   "cell_type": "markdown",
   "id": "4520fa6b-abea-4d9a-849d-a3f95093981a",
   "metadata": {
    "tags": []
   },
   "source": [
    "# Data Science Tools and Ecosystem"
   ]
  },
  {
   "cell_type": "markdown",
   "id": "2ef49b9b-3be8-4a7f-89e6-9b181ef0bd04",
   "metadata": {},
   "source": [
    "In this notebook, Data Science Tools and Ecosystem are summarized."
   ]
  },
  {
   "cell_type": "markdown",
   "id": "c8a660ab-c47a-4f81-a7fb-f6aaaca7c7cb",
   "metadata": {
    "tags": []
   },
   "source": [
    "__Objectives__\n",
    "- List popular languages used by Data Scientists \n",
    "- List commonly used libraries used by Data Scientists\n",
    "- Create a single-column table\n",
    "- Create examples of evaluating arithmetic expressions in Python"
   ]
  },
  {
   "cell_type": "markdown",
   "id": "d336d318-da31-492f-b7cd-19a039f37453",
   "metadata": {},
   "source": [
    "Some of the popular languages that Data Scientists use are:"
   ]
  },
  {
   "cell_type": "markdown",
   "id": "73008f25-c678-4c78-9324-37e541b463d5",
   "metadata": {},
   "source": [
    "1. Python\n",
    "2. R\n",
    "3. Julia\n",
    "4. SQL"
   ]
  },
  {
   "cell_type": "markdown",
   "id": "699f6092-f122-459f-8216-06a7e95057dd",
   "metadata": {},
   "source": [
    "Some of the commonly used libraries used by Data Scientists include:"
   ]
  },
  {
   "cell_type": "markdown",
   "id": "e2d1dde7-c9bb-4fab-ba61-a86e7dc1cf63",
   "metadata": {},
   "source": [
    "1. Numpy \n",
    "2. pandas \n",
    "3. tensorflow \n",
    "4. sciskit \n",
    "5. matplotlib \n"
   ]
  },
  {
   "cell_type": "markdown",
   "id": "5856b29e-b5e0-46dc-bf27-b1e46d0e8309",
   "metadata": {},
   "source": [
    "| Data Science Tools|\n",
    "| ----------- |\n",
    "| Jupyter Notebooks |\n",
    "| RStudio |\n",
    "| VS Code |"
   ]
  },
  {
   "cell_type": "markdown",
   "id": "5b0b1e98-f278-4358-b40a-6a6cb96ce6b6",
   "metadata": {},
   "source": [
    "### Below are a few examples of evaluating arithmetic expressions in Python"
   ]
  },
  {
   "cell_type": "code",
   "execution_count": 3,
   "id": "906f7d20-fc85-4a79-a9ba-32bdaf283f64",
   "metadata": {
    "tags": []
   },
   "outputs": [
    {
     "data": {
      "text/plain": [
       "17"
      ]
     },
     "execution_count": 3,
     "metadata": {},
     "output_type": "execute_result"
    }
   ],
   "source": [
    "# This a simple arithmetic expression to mutiply then add integers\n",
    "(3*4)+5"
   ]
  },
  {
   "cell_type": "code",
   "execution_count": 5,
   "id": "d0419862-cc80-4fd2-add1-e2c266eb0885",
   "metadata": {
    "tags": []
   },
   "outputs": [
    {
     "data": {
      "text/plain": [
       "3.3333333333333335"
      ]
     },
     "execution_count": 5,
     "metadata": {},
     "output_type": "execute_result"
    }
   ],
   "source": [
    "# This will convert 200 minutes to hours by diving by 60\n",
    "200/60"
   ]
  },
  {
   "cell_type": "markdown",
   "id": "5e16f5bd-9c3c-4cdf-97dc-0e7be7fe1a94",
   "metadata": {},
   "source": [
    "## Author\n",
    "Cynthia"
   ]
  },
  {
   "cell_type": "code",
   "execution_count": null,
   "id": "e6079429-136d-47b0-96c2-ac562cd52305",
   "metadata": {},
   "outputs": [],
   "source": []
  }
 ],
 "metadata": {
  "kernelspec": {
   "display_name": "Python",
   "language": "python",
   "name": "conda-env-python-py"
  },
  "language_info": {
   "codemirror_mode": {
    "name": "ipython",
    "version": 3
   },
   "file_extension": ".py",
   "mimetype": "text/x-python",
   "name": "python",
   "nbconvert_exporter": "python",
   "pygments_lexer": "ipython3",
   "version": "3.7.12"
  }
 },
 "nbformat": 4,
 "nbformat_minor": 5
}
